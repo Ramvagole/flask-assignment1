{
 "cells": [
  {
   "cell_type": "code",
   "execution_count": null,
   "id": "e393d447-a009-4396-965c-d8b5dc74db7c",
   "metadata": {},
   "outputs": [],
   "source": [
    "#Q1):-\n",
    "Flask is a web application framework written in Python.\n",
    "It was developed by Armin Ronacher, who led a team of international Python enthusiasts called Poocco. \n",
    "Flask is based on the Werkzeg WSGI toolkit and the Jinja2 template engine.\n",
    "\n",
    "A Web Application Framework or a simply a Web Framework represents a collection of libraries and modules \n",
    "that enable web application developers to write applications without worrying about low-level details such as protocol, \n",
    "thread management, and so on.\n",
    "\n",
    "higher flexibility.\n",
    "higher compatibility with latest technologies.\n",
    "high scalability for simple web applications.\n",
    "technical experimentation.\n",
    "customization.\n",
    "slightly higher framework performance.\n",
    "easier to use for simple cases.\n",
    "smaller size of the code base."
   ]
  },
  {
   "cell_type": "code",
   "execution_count": null,
   "id": "86bee02d-fd87-478c-97a5-b4a45efd7c56",
   "metadata": {},
   "outputs": [],
   "source": [
    "#Q2):-\n",
    "from flask import Flask\n",
    "app=Flask(__name__)\n",
    "@app.route(\"/\")\n",
    "def hello_world():\n",
    "    return \"Hello World!!\"\n",
    "if __name__==\"__main__\":\n",
    "    app.run(host=\"0.0.0.0\")"
   ]
  },
  {
   "cell_type": "code",
   "execution_count": null,
   "id": "6a0c36d0-aaa1-4f5e-afbb-928c8d206179",
   "metadata": {},
   "outputs": [],
   "source": [
    "#Q3):-\n",
    "App routing is the technique used to map the specific URL with the associated function intended to perform some task.\n",
    "\n",
    "App routing is used to map the specific URL with the associated function that is intended to perform some task."
   ]
  },
  {
   "cell_type": "code",
   "execution_count": null,
   "id": "d1856d82-c05a-41b2-a2ad-de129c7d2bb0",
   "metadata": {},
   "outputs": [],
   "source": [
    "#Q4):-\n",
    "from flask import Flask\n",
    "app=Flask(__name__)\n",
    "\n",
    "@app.route(\"/\")\n",
    "def hello_world():\n",
    "    return \"\"\"Company Name: ABC Corporation <br>Location: India<br>Contact Detail: 999-999-9999<br>\"\"\"\n",
    "\n",
    "@app.route(\"/welcome\")\n",
    "def welcome():\n",
    "    return \"\"\"Welcome to ABC Corporation\"\"\"\n",
    "\n",
    "if __name__==\"__main__\":\n",
    "    app.run(host=\"0.0.0.0\")"
   ]
  },
  {
   "cell_type": "code",
   "execution_count": null,
   "id": "3391e97f-b6d1-489b-a0dd-fa3afe1298e2",
   "metadata": {},
   "outputs": [],
   "source": [
    "#Q5):-\n",
    "from flask import Flask,redirect,url_for\n",
    "app=Flask(__name__)\n",
    "\n",
    "@app.route(\"/\")\n",
    "def hello_world():\n",
    "    return \"\"\"Company Name: ABC Corporation <br>Location: India<br>Contact Detail: 999-999-9999<br>\"\"\"\n",
    "\n",
    "@app.route(\"/welcome\")\n",
    "def welcome():\n",
    "    return \"\"\"Welcome to redirect\"\"\"\n",
    "\n",
    "@app.route(\"/hello\")\n",
    "def hello_url():\n",
    "    return redirect(url_for(\"welcome\"))\n",
    "if __name__==\"__main__\":\n",
    "    app.run(host=\"0.0.0.0\")"
   ]
  }
 ],
 "metadata": {
  "kernelspec": {
   "display_name": "Python 3 (ipykernel)",
   "language": "python",
   "name": "python3"
  },
  "language_info": {
   "codemirror_mode": {
    "name": "ipython",
    "version": 3
   },
   "file_extension": ".py",
   "mimetype": "text/x-python",
   "name": "python",
   "nbconvert_exporter": "python",
   "pygments_lexer": "ipython3",
   "version": "3.10.8"
  }
 },
 "nbformat": 4,
 "nbformat_minor": 5
}
